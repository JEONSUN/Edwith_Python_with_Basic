{
 "cells": [
  {
   "cell_type": "markdown",
   "metadata": {},
   "source": [
    "# 3.1 Conditionals\n"
   ]
  },
  {
   "cell_type": "markdown",
   "metadata": {},
   "source": [
    "## Conditional Steps\n"
   ]
  },
  {
   "cell_type": "code",
   "execution_count": 1,
   "metadata": {},
   "outputs": [
    {
     "name": "stdout",
     "output_type": "stream",
     "text": [
      "Smaller\n",
      "finis\n"
     ]
    }
   ],
   "source": [
    "# x가 10 보다 작으면 Smaller 출력 , 20보다 크면 Bigger 출력\n",
    "x= 5\n",
    "if x < 10:\n",
    "    print('Smaller')\n",
    "if x > 20:\n",
    "    print('Bigger')\n",
    "\n",
    "print('finis')    \n"
   ]
  },
  {
   "cell_type": "markdown",
   "metadata": {},
   "source": [
    "## Comparison Operators\n",
    "\n",
    "\n",
    "- 부울 표현식은 네/아니오 질문을 통해 프로그램의 흐름을 결정 \n",
    "\n",
    "\n",
    "- 부울 표현식은 비교 연산자로 참/거짓, 네 / 아니오를 판단 \n",
    "\n",
    "\n",
    "- 비교 연산자는 변수를 바꾸지 않음"
   ]
  },
  {
   "cell_type": "markdown",
   "metadata": {},
   "source": [
    "~~~python\n",
    "x = 5 if x == 5 :       # Equals 5 실행\n",
    "    print('Equals 5') \n",
    "if x > 4 :              # Greater than 4\n",
    "    print('Greater than 4') \n",
    "if  x >= 5 :            # Greater than or Equals 5\n",
    "    print('Greater than or Equals 5') \n",
    "if x < 6 :              # Less than 6\n",
    "    print('Less than 6') \n",
    "if x <= 5 :             # Less than or Equals 5\n",
    "    print('Less than or Equals 5') \n",
    "if x != 6 :             # Not equal 6\n",
    "    print('Not equal 6')\n",
    "~~~"
   ]
  },
  {
   "cell_type": "markdown",
   "metadata": {},
   "source": [
    "## One-Way Decisions"
   ]
  },
  {
   "cell_type": "code",
   "execution_count": 2,
   "metadata": {},
   "outputs": [
    {
     "name": "stdout",
     "output_type": "stream",
     "text": [
      "Before 5\n",
      "Is 5\n",
      "Is Still 5\n",
      "Thitd 5\n",
      "Afterwards 5\n",
      "Afterwards 6\n"
     ]
    }
   ],
   "source": [
    "x = 5\n",
    "print('Before 5')\n",
    "\n",
    "if x == 5 :\n",
    "    print('Is 5')\n",
    "    print('Is Still 5')\n",
    "    print('Thitd 5')\n",
    "print('Afterwards 5')\n",
    "\n",
    "# x = 6이 아니므로 문단 전체 실행 x\n",
    "if x == 6 :\n",
    "    print('Is 6')\n",
    "    print('Is Still 6')\n",
    "    print('Thitd 6')\n",
    "print('Afterwards 6')\n",
    "\n"
   ]
  },
  {
   "cell_type": "markdown",
   "metadata": {},
   "source": [
    "## Indentation\n",
    "\n",
    "- if 문과 for 문 **( : )** 다음에 들여쓰기를 함 \n",
    "\n",
    "\n",
    "- 들여쓰기를 유지해서 블록의 범위를 표시 (if와 for 블록의 범위) \n",
    "\n",
    "\n",
    "- if 문과 for 문에 맞춰 내어쓰기를 해서 블록의 끝을 표시 \n",
    "\n",
    "\n",
    "- **빈 줄**은 들여쓰기에 상관없이 무시됨 \n",
    "\n",
    "\n",
    "- **주석**은 들여쓰기에 상관없이 무시됨\n"
   ]
  },
  {
   "cell_type": "markdown",
   "metadata": {},
   "source": [
    "## Warning: Turn Off Tabs!!\n",
    "\n",
    "• 대부분 텍스트 에디터는 탭을 스페이스로 변환한다 - 기능을 활성화\n",
    "> -  NotePad++:  설정-> Preferences -> 언어 메뉴/탭 설정\n",
    "     -  TextWrangler:  TextWrangler -> Preferences -> Editor Defaults \n",
    " \n",
    " • 파이썬은 들여쓰기를 중요시하여 탭과 스페이스를 혼동하면 **“들여쓰기 에러”**가 발생"
   ]
  },
  {
   "cell_type": "code",
   "execution_count": 3,
   "metadata": {},
   "outputs": [
    {
     "name": "stdout",
     "output_type": "stream",
     "text": [
      "Bigger than 2\n",
      "Still Bigger\n",
      "Done with 2\n",
      "0\n",
      "Done with i 0\n",
      "1\n",
      "Done with i 1\n",
      "2\n",
      "Done with i 2\n",
      "3\n",
      "Bigger than 2\n",
      "Done with i 3\n",
      "4\n",
      "Bigger than 2\n",
      "Done with i 4\n",
      "All Done\n"
     ]
    }
   ],
   "source": [
    "# if 와 for문 후 들여쓰기를 하거나 유지 내어쓰기로 블록의 끝을 표시\n",
    "\n",
    "x = 5\n",
    "if x > 2 :\n",
    "    print('Bigger than 2')\n",
    "    print('Still Bigger')\n",
    "print ('Done with 2')\n",
    "\n",
    "for i in range(5) :\n",
    "    print(i)\n",
    "    if i > 2 :\n",
    "        print('Bigger than 2')\n",
    "    print ('Done with i', i)\n",
    "print('All Done')"
   ]
  },
  {
   "cell_type": "markdown",
   "metadata": {},
   "source": [
    "## Nested Decisions\n"
   ]
  },
  {
   "cell_type": "code",
   "execution_count": 4,
   "metadata": {},
   "outputs": [
    {
     "name": "stdout",
     "output_type": "stream",
     "text": [
      "More than one\n",
      "Less than 100\n",
      "all Done\n"
     ]
    }
   ],
   "source": [
    "# 한 갈래로 중첩된 if 문\n",
    "\n",
    "x = 42\n",
    "if x > 1 :\n",
    "    print('More than one')\n",
    "    if x < 100 :\n",
    "        print('Less than 100')\n",
    "print ('all Done') "
   ]
  },
  {
   "cell_type": "markdown",
   "metadata": {},
   "source": [
    "## Two-way Decisions with else\n",
    "\n",
    "- 논리식이 참일 때와 거짓일 때 각각 다른 일을 할 수 있다 \n",
    "\n",
    "\n",
    "- 갈림길과 같이 둘 중 하나만 선택할 수 있다 \n"
   ]
  },
  {
   "cell_type": "code",
   "execution_count": 5,
   "metadata": {},
   "outputs": [
    {
     "name": "stdout",
     "output_type": "stream",
     "text": [
      "Bigger\n"
     ]
    }
   ],
   "source": [
    "# if - else문을 사용하여 작성\n",
    "\n",
    "x = 4\n",
    "if x > 2 :\n",
    "    print('Bigger')\n",
    "else :\n",
    "    print('Smaller')"
   ]
  },
  {
   "cell_type": "markdown",
   "metadata": {},
   "source": [
    "# 3.2 More Conditional Structures"
   ]
  },
  {
   "cell_type": "markdown",
   "metadata": {},
   "source": [
    "## Multy - Way"
   ]
  },
  {
   "cell_type": "markdown",
   "metadata": {},
   "source": [
    "- 해당하는 질문이 참일때까지, 해당하는 하나만 실행\n",
    "\n",
    "\n",
    "- 순서대로 배치하는 것이 중요함"
   ]
  },
  {
   "cell_type": "code",
   "execution_count": 6,
   "metadata": {},
   "outputs": [
    {
     "name": "stdout",
     "output_type": "stream",
     "text": [
      "Medium\n"
     ]
    }
   ],
   "source": [
    "# if - elif - else문을 사용하여 작성 \n",
    "x = 5\n",
    "if x < 2 :\n",
    "    print('Small')\n",
    "elif x < 10 :\n",
    "    print('Medium')\n",
    "else :\n",
    "    print(\"Large\")\n"
   ]
  },
  {
   "cell_type": "code",
   "execution_count": 7,
   "metadata": {},
   "outputs": [
    {
     "name": "stdout",
     "output_type": "stream",
     "text": [
      "Large\n"
     ]
    }
   ],
   "source": [
    "x = 20\n",
    "if x < 2 :\n",
    "    print('Small')\n",
    "elif x < 10 :\n",
    "    print('Medium')\n",
    "else :\n",
    "    print(\"Large\")\n"
   ]
  },
  {
   "cell_type": "code",
   "execution_count": 8,
   "metadata": {},
   "outputs": [],
   "source": [
    "# No Else\n",
    "\n",
    "x = 20\n",
    "if x < 2 :\n",
    "    print('Small')\n",
    "elif x < 10 :\n",
    "    print('Medium')\n"
   ]
  },
  {
   "cell_type": "markdown",
   "metadata": {},
   "source": [
    "## The try / except Structure\n",
    "\n",
    "- 위험한 코드를 **try/except** 을 사용해 처리 \n",
    "\n",
    "\n",
    "- **try 블록에 있는 코드가 성공하면** - except 블록을 건너뜀 \n",
    "\n",
    "\n",
    "- **try 블록에 있는 코드가 실패하면** - except 블록을 실행"
   ]
  },
  {
   "cell_type": "markdown",
   "metadata": {},
   "source": [
    "~~~python\n",
    "astr = 'Hello Bob' \n",
    "istr = int(astr)  # 문자열을 정수형으로 바꿀 수 없으므로 Traceback 에러가 뜸\n",
    "print('First', istr) \n",
    "\n",
    "# 에러 표시로 인해 이후 문단은 아예 실행 안함.\n",
    "astr = '123' \n",
    "istr = int(astr) \n",
    "print('Second', istr)\n",
    "~~~"
   ]
  },
  {
   "cell_type": "code",
   "execution_count": 9,
   "metadata": {},
   "outputs": [
    {
     "name": "stdout",
     "output_type": "stream",
     "text": [
      "First -1\n",
      "second 123\n"
     ]
    }
   ],
   "source": [
    "astr = 'Hello Bob'\n",
    "try : \n",
    "    istr = int(astr)\n",
    "except : \n",
    "    istr = -1\n",
    "print ('First', istr)\n",
    "\n",
    "\n",
    "# except 블록은 변환이 잘못됐을시에만 실행 \n",
    "astr = '123'\n",
    "try :\n",
    "    istr = int(astr)\n",
    "except:\n",
    "    istr = -1\n",
    "print ('second',istr)"
   ]
  },
  {
   "cell_type": "code",
   "execution_count": 10,
   "metadata": {},
   "outputs": [
    {
     "name": "stdout",
     "output_type": "stream",
     "text": [
      "Hello\n",
      "Done -1\n"
     ]
    }
   ],
   "source": [
    "# 중단될 것 같은 한 줄만 넣어놓는게 좋음\n",
    "astr = 'Bob'\n",
    "try:\n",
    "    print('Hello')\n",
    "    istr = int(astr) # 오류가 생기므로 바로 excpet문을 진행함\n",
    "    print('There') # 순서가 except문으로 넘어가므로 출력 안함\n",
    "except:\n",
    "    istr = -1\n",
    "print('Done',istr)"
   ]
  },
  {
   "cell_type": "markdown",
   "metadata": {},
   "source": [
    "## Sample try / except"
   ]
  },
  {
   "cell_type": "markdown",
   "metadata": {},
   "source": [
    "~~~python\n",
    "astr = input('Enter a number : ')\n",
    "try : \n",
    "    ival = int (astr)\n",
    "except :\n",
    "    ival = -1\n",
    "\n",
    "if ival> 0 :\n",
    "    print('Nice work')\n",
    "else :\n",
    "    print('Not a number')\n",
    "\n",
    "Enter a number:42  # except 무시하고 if문 실행\n",
    "    Nice work \n",
    "\n",
    "Enter a number:forty-two # except문으로 넘어가 if 문 실행\n",
    "    Not a number\n",
    "    \n",
    "~~~"
   ]
  },
  {
   "cell_type": "markdown",
   "metadata": {},
   "source": [
    "## Summary\n",
    "\n",
    "- 비교 연산자 ==   <=   >=   >   <   != \n",
    "\n",
    "\n",
    "- 들여쓰기 \n",
    "\n",
    "\n",
    "- 한 갈래 결정 \n",
    "\n",
    "\n",
    "- 두 갈래 결정: if: 와  else:\n",
    "\n",
    "\n",
    "- 중첩된 결정 \n",
    "\n",
    "\n",
    "- elif을 이용한 여러 갈래 결정 - try / except을 이용한 에러 처리"
   ]
  },
  {
   "cell_type": "markdown",
   "metadata": {},
   "source": [
    "# 연습문제"
   ]
  },
  {
   "cell_type": "markdown",
   "metadata": {},
   "source": [
    "### 사용자에게 시간(Hours)과 시급(Rate)을 입력값으로 받아 급여를 계산하는 프로그램을 만들기\n",
    "\n",
    "Enter Hours: 35 \n",
    "\n",
    "Enter Rate: 2.75 \n",
    "\n",
    "Pay: 96.25"
   ]
  },
  {
   "cell_type": "code",
   "execution_count": 11,
   "metadata": {},
   "outputs": [
    {
     "name": "stdout",
     "output_type": "stream",
     "text": [
      "Enter Hours :50\n",
      "Enter Rate :10\n",
      "초과 근무 수당 지급\n",
      "500.0 150.0\n",
      "내가 받을 급여는 650.0\n"
     ]
    }
   ],
   "source": [
    "Eh = input('Enter Hours :')\n",
    "Er = input('Enter Rate :')\n",
    "fh = float(Eh)\n",
    "fr = float(Er)\n",
    "\n",
    "if fh > 40:\n",
    "    print(\"초과 근무 수당 지급\")\n",
    "    reg = fr*fh\n",
    "    otp = (fh-40.0)*(fr*1.5)\n",
    "    print(reg,otp)\n",
    "    Pay=reg+otp\n",
    "else :\n",
    "    print(\"기본 급여 지급\")\n",
    "    Pay = fh*fr\n",
    "\n",
    "print ('내가 받을 급여는',Pay)\n"
   ]
  },
  {
   "cell_type": "markdown",
   "metadata": {},
   "source": [
    "### try/except를 사용해 숫자가 아닌 입력값을 받는 급여 계산 프로그램으로 수정\n",
    "***\n",
    "Enter Hours: 20 \n",
    "\n",
    "Enter Rate: nine \n",
    "\n",
    "**Error, please enter numeric input**\n",
    "***\n",
    "Enter Hours: forty  \n",
    "\n",
    "**Error, please enter numeric input**"
   ]
  },
  {
   "cell_type": "code",
   "execution_count": 12,
   "metadata": {},
   "outputs": [
    {
     "name": "stdout",
     "output_type": "stream",
     "text": [
      "Enter Hours :ten\n",
      "Enter Rate :10\n",
      "Error, please enter numeric input\n",
      "Enter Hours :10\n",
      "Enter Rate :10\n",
      "기본 급여 지급\n",
      "내가 받을 급여는 100.0\n"
     ]
    }
   ],
   "source": [
    "# 반복문을 사용하여 문자를 사용해 입력시 재차 입력하도록 함.\n",
    "\n",
    "while True: \n",
    "    try:\n",
    "        Eh = input('Enter Hours :')\n",
    "        Er = input('Enter Rate :')\n",
    "        Fh = float(Eh)\n",
    "        Fr = float(Er)\n",
    "        break\n",
    "    except: \n",
    "        print(\"Error, please enter numeric input\")\n",
    "        quit()\n",
    "\n",
    "    \n",
    "if Fh > 40:\n",
    "    print(\"초과 근무 수당 지급\")\n",
    "    reg = Fr*Fh\n",
    "    otp = (Fh-40.0)*(Fr*1.5)\n",
    "    print(reg,otp)\n",
    "    Pay=reg+otp\n",
    "else :\n",
    "    print(\"기본 급여 지급\")\n",
    "    Pay = Fh*Fr\n",
    "\n",
    "print ('내가 받을 급여는',Pay)"
   ]
  }
 ],
 "metadata": {
  "kernelspec": {
   "display_name": "Python 3",
   "language": "python",
   "name": "python3"
  },
  "language_info": {
   "codemirror_mode": {
    "name": "ipython",
    "version": 3
   },
   "file_extension": ".py",
   "mimetype": "text/x-python",
   "name": "python",
   "nbconvert_exporter": "python",
   "pygments_lexer": "ipython3",
   "version": "3.7.3"
  }
 },
 "nbformat": 4,
 "nbformat_minor": 2
}
