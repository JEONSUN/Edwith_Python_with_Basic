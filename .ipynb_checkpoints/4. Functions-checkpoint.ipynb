{
 "cells": [
  {
   "cell_type": "markdown",
   "metadata": {},
   "source": [
    "# 4.1 Functions"
   ]
  },
  {
   "cell_type": "markdown",
   "metadata": {},
   "source": [
    "## Stored (and reused) Steps"
   ]
  },
  {
   "cell_type": "markdown",
   "metadata": {},
   "source": [
    "![screensh](./figure/figure3.jpg)\n",
    "\n",
    "\n",
    "- **def** : 정의된 함수, 저장단계 , 실제로 실행되는 코드가 아니라 코드를 생성하며 기록함\n",
    "\n",
    "\n",
    "- 함수는 두 개의 구문으로 이루어짐"
   ]
  },
  {
   "cell_type": "markdown",
   "metadata": {},
   "source": [
    "## Python Functions\n",
    "\n",
    "- 파이썬에는 두 종류의 함수가 존재 \n",
    "> - **내장 함수** - 파이썬의 한 부분으로 제공됨 - 예: print(), input(), type(), float(), int() ... \n",
    "    <br><br>\n",
    "  -  우리가 정의하고 사용하는 함수 \n",
    "\n",
    "- 내장 함수의 이름은 “새로운” 예약어라고 생"
   ]
  },
  {
   "cell_type": "markdown",
   "metadata": {},
   "source": [
    "## Python Definition\n",
    "\n",
    "- 파이썬에서 함수는 인자를 입력 받고, 계산을 하고, 결과를 반환하는 재사용 가능한 코드 \n",
    "\n",
    "\n",
    "- 함수를 정의할 때 def 예약어를 이용 \n",
    "\n",
    "\n",
    "- 함수 이름, 괄호 그리고 인자를 이용해 함수를 호출함"
   ]
  },
  {
   "cell_type": "code",
   "execution_count": 1,
   "metadata": {},
   "outputs": [
    {
     "name": "stdout",
     "output_type": "stream",
     "text": [
      "w\n",
      " \n"
     ]
    }
   ],
   "source": [
    "# 가장 나중에 나오는 문자열\n",
    "big =max('Hello world')  # big = 할당 , hello world = 인자\n",
    "print(big)  # 결과\n",
    "\n",
    "# 가장 작은 문자 출력\n",
    "tiny = min('Hello world')\n",
    "print(tiny) # 공백 문자를 찾아냄"
   ]
  },
  {
   "cell_type": "markdown",
   "metadata": {},
   "source": [
    "## Max Function\n",
    "\n",
    "- 함수는 우리가 사용할 저장된 코드임\n",
    "\n",
    "\n",
    "- 함수는 입력값을 받아서 출력값을 생산\n",
    "\n",
    "~~~python\n",
    "# hello world(문자열) 입력값을 받아 -> w(문자열) 출력\n",
    "def max (inp) :\n",
    "    blah\n",
    "    blah\n",
    "    for x in inp :\n",
    "        blah\n",
    "        blah\n",
    "~~~\n"
   ]
  },
  {
   "cell_type": "markdown",
   "metadata": {},
   "source": [
    "## Type Conversions\n",
    "\n",
    "- 정수형과 실수형을 표현식에 동시에 사용할 때 정수는 암시적으로 실수형으로 변환됨 \n",
    "\n",
    "\n",
    "- 내장 함수인 int()과 float()을 이용하여 조정 가능\n",
    "\n",
    "~~~python\n",
    ">>> print(float(99) / 100) \n",
    "0.99 \n",
    ">>> i = 42 \n",
    ">>> type(i) \n",
    "<class 'int'> \n",
    ">>> f = float(i)\n",
    ">>> print(f) \n",
    "42.0 \n",
    ">>> type(f) \n",
    "<class 'float'> \n",
    ">>> print(1 + 2 * float(3) / 4 – 5) \n",
    "-2.5\n",
    "~~~"
   ]
  },
  {
   "cell_type": "markdown",
   "metadata": {},
   "source": [
    "## String Conversions\n",
    "\n",
    "- int() 와 float()를 문자열에서 정수형으로 변환할 때도 사용할 수 있음 \n",
    "\n",
    "\n",
    "- 문자열이 숫자를 포함하지 않으면 에러\n"
   ]
  },
  {
   "cell_type": "markdown",
   "metadata": {},
   "source": [
    "# 4.2 Functions of Our Own"
   ]
  },
  {
   "cell_type": "markdown",
   "metadata": {},
   "source": [
    "## Building our Own Functions\n",
    "\n",
    "***\n",
    "- def 키워드, 괄호, 그리고 선택적으로 매개 변수를 적어서 새로운 함수를 만들 수 있음 \n",
    "\n",
    "\n",
    "- 함수 본문은 들여쓰기를 함 \n",
    "\n",
    "\n",
    "- **이는 함수를 정의하지만 함수의 본문을 실행하지는 않음**\n",
    "***"
   ]
  },
  {
   "cell_type": "code",
   "execution_count": 2,
   "metadata": {},
   "outputs": [
    {
     "name": "stdout",
     "output_type": "stream",
     "text": [
      "Hello\n",
      "yo\n",
      "7\n"
     ]
    }
   ],
   "source": [
    "x = 5 \n",
    "print('Hello')\n",
    "\n",
    "# 함수를 호출하지 않아서 실행되지 않음.\n",
    "def print_lyrics():\n",
    "    print(\"I'm a lumberjack, and I'm okay.\")        \n",
    "    print('I sleep all night and I work all day.')\n",
    "    \n",
    "print('yo')\n",
    "x= x + 2\n",
    "print(x)"
   ]
  },
  {
   "cell_type": "markdown",
   "metadata": {},
   "source": [
    "## Definitions and Uses\n",
    "\n",
    "- 함수를 한 번 정의하면, 원하는 만큼 호출 (또는 실행) 가능\n",
    "\n",
    "\n",
    "- 이는 저장과 재사용 패턴"
   ]
  },
  {
   "cell_type": "code",
   "execution_count": 3,
   "metadata": {},
   "outputs": [
    {
     "name": "stdout",
     "output_type": "stream",
     "text": [
      "Hello\n",
      "yo\n",
      "I'm a lumberjack, and I'm okay.\n",
      "I sleep all night and I work all day.\n",
      "7\n"
     ]
    }
   ],
   "source": [
    "x = 5 \n",
    "print('Hello')\n",
    "\n",
    "def print_lyrics():\n",
    "    print(\"I'm a lumberjack, and I'm okay.\")        \n",
    "    print('I sleep all night and I work all day.')\n",
    "    \n",
    "print('yo')\n",
    "# 함수 호출 - 되올라가서  이 코드들을 실행하도 돌아옴\n",
    "print_lyrics()\n",
    "x= x + 2\n",
    "print(x)"
   ]
  },
  {
   "cell_type": "markdown",
   "metadata": {},
   "source": [
    "## Arguments\n",
    "\n",
    "- 인자는 함수를 호출 할 때 입력값으로 전달하는 값 \n",
    "\n",
    "\n",
    "- 인자는 함수가 다른 조건에서 호출 되었을 때 각각 다른 일을 수행할 수 있도록 지시하는 역할 \n",
    "\n",
    "\n",
    "- 인자는 함수 이름 다음의 괄호 안에 씀\n",
    "\n",
    "\n",
    "예를 들어 big = max('hello world')에서 **hello world**가 인자를 의미\n"
   ]
  },
  {
   "cell_type": "markdown",
   "metadata": {},
   "source": [
    "## Parameters\n",
    "\n",
    "- 매개 변수는 함수 정의에 사용되는 변수임. \n",
    "\n",
    "\n",
    "- 특정 함수 호출에서 함수 안의 코드가 인자에 접근하기 위한 “손잡이” 역할.\n",
    "\n",
    "~~~python\n",
    "\n",
    "def greet(lang):\n",
    "    if lang == 'es':\n",
    "        print('Hola')\n",
    "    elif lang == 'fr':\n",
    "        print('Bonjour')\n",
    "    else:\n",
    "        print('Hello')\n",
    "\n",
    ">>> greet('en') \n",
    "Hello \n",
    ">>> greet('es') \n",
    "Hola \n",
    ">>> greet('fr') \n",
    "Bonjour \n",
    "~~~    \n",
    "        \n"
   ]
  },
  {
   "cell_type": "markdown",
   "metadata": {},
   "source": [
    "## Return Values\n",
    "\n",
    "- 함수는 종종 인자를 받아서 계산을 하고 함수 호출 구문이 사용할 수 있도록 값을 반환. 이를 위해 return 키워드를 사용\n",
    "\n",
    "\n",
    "~~~ python\n",
    "def greet():\n",
    "    return('hello')\n",
    "\n",
    "print(greet(),'Glenn')\n",
    "Hello Gleen\n",
    "print(greet(),'Sally')\n",
    "Hello Sally\n",
    "~~~"
   ]
  },
  {
   "cell_type": "markdown",
   "metadata": {},
   "source": [
    "## Return Value\n",
    "\n",
    "- **“fruitful”** 함수는 결과 (또는 반환값)을 생성 \n",
    "\n",
    "\n",
    "- return 구문은 함수 실행을 끝내고 함수의 결과를 \"반환\""
   ]
  },
  {
   "cell_type": "code",
   "execution_count": 4,
   "metadata": {},
   "outputs": [
    {
     "name": "stdout",
     "output_type": "stream",
     "text": [
      "Hello Gleen\n",
      "Hola Sally\n",
      "Bonjour Michael\n"
     ]
    }
   ],
   "source": [
    "def greet(lang):\n",
    "    if lang == 'es':\n",
    "        return \"Hola\"\n",
    "    elif lang == 'fr':\n",
    "        return \"Bonjour\"\n",
    "    else:\n",
    "        return \"Hello\"\n",
    "\n",
    "print(greet('en'),'Gleen') \n",
    " \n",
    "print(greet('es'),'Sally') \n",
    " \n",
    "print(greet('fr'),'Michael')\n"
   ]
  },
  {
   "cell_type": "markdown",
   "metadata": {},
   "source": [
    "## Multiple Parameters / Arguments \n",
    "\n",
    "- 함수 정의에서 한 개 이상의 매개 변수를 정의할 수 있음\n",
    "\n",
    "\n",
    "- 단순히 함수를 호출 할 때 인자를 추가 \n",
    "\n",
    "\n",
    "- 숫자는 인자의 순서에 따라 매개 변수와 매칭"
   ]
  },
  {
   "cell_type": "code",
   "execution_count": 5,
   "metadata": {},
   "outputs": [
    {
     "name": "stdout",
     "output_type": "stream",
     "text": [
      "8\n"
     ]
    }
   ],
   "source": [
    "def addtwo (a,b):\n",
    "    added = a+b\n",
    "    return added\n",
    "\n",
    "x = addtwo(3,5)\n",
    "print(x)"
   ]
  },
  {
   "cell_type": "markdown",
   "metadata": {},
   "source": [
    "## To Function or not to function\n",
    "\n",
    "- 함수는 장문의 코드를 사용할 시 매우 유용한 메커니즘이나, 굳이 사용을 강조할 필요는 없다\n",
    "\n",
    "\n",
    "- 코드를 한 **문단** 으로 정리 \n",
    "\n",
    "\n",
    "- 완전한 아이디어를 저장해두고 **명명** \n",
    "\n",
    "\n",
    "- 번복하지 말기 - 한 번에 작동하도록 만들어서 재사용 \n",
    "\n",
    "\n",
    "- 코드가 너무 길어지거나 복잡해지면, 논리 상 나누어서 각 조각을 함수 안에 집어 넣어넣기 \n",
    "\n",
    "\n",
    "- 일반적으로 자주 사용 하는 것은 라이브러리화 - 동료와 공유해도 좋음"
   ]
  },
  {
   "cell_type": "markdown",
   "metadata": {},
   "source": [
    "## 연습문제\n",
    "\n",
    "### 월급 계산 프로그램을 다시 프로그램하기. \n",
    "### 근무 시간이 40시간이 넘으면 초과 근무 시간에는 시급의 1.5배를 지급합니다.이름이 computepay이고 2개의 매개 변수( 시간과 시급 )를 받는 함수를 작성하기.\n"
   ]
  },
  {
   "cell_type": "code",
   "execution_count": 6,
   "metadata": {},
   "outputs": [
    {
     "name": "stdout",
     "output_type": "stream",
     "text": [
      "Enter Hours :50\n",
      "Enter Rate :10\n",
      "In computepay 50.0 10.0\n",
      "초과 근무 수당 지급\n",
      "500.0 150.0\n",
      "내가 받을 급여는 650.0\n"
     ]
    }
   ],
   "source": [
    "# 함수 computepay를 통해 input에 넣은 시간과 시급이 무엇인지 알 수 있다.\n",
    "def computepay(hours, rate) :\n",
    "    print('In computepay', hours, rate)\n",
    "    \n",
    "Eh = input('Enter Hours :')\n",
    "Er = input('Enter Rate :')\n",
    "fh = float(Eh)\n",
    "fr = float(Er)\n",
    "\n",
    "\n",
    "computepay(fh,fr)\n",
    "\n",
    "if fh > 40:\n",
    "    print(\"초과 근무 수당 지급\")\n",
    "    reg = fr*fh\n",
    "    otp = (fh-40.0)*(fr*1.5)\n",
    "    print(reg,otp)\n",
    "    Pay=reg+otp\n",
    "else :\n",
    "    print(\"기본 급여 지급\")\n",
    "    Pay = fh*fr\n",
    "\n",
    "print ('내가 받을 급여는',Pay)"
   ]
  },
  {
   "cell_type": "code",
   "execution_count": 7,
   "metadata": {},
   "outputs": [
    {
     "name": "stdout",
     "output_type": "stream",
     "text": [
      "Enter Hours :50\n",
      "Enter Rate :10\n",
      "In computepay 50.0 10.0\n",
      "초과 근무 수당 지급 650.0\n",
      "내가 받을 급여는 650.0\n"
     ]
    }
   ],
   "source": [
    "# computepay에 급여 프로그램까지 넣는 경우\n",
    "def computepay(hours, rate) :\n",
    "    print('In computepay', hours, rate)\n",
    "    if hours > 40:\n",
    "        reg = rate*hours\n",
    "        otp = (hours-40.0)*(rate*1.5)\n",
    "        Pay=reg+otp\n",
    "        print(\"초과 근무 수당 지급\", Pay)\n",
    "    else :\n",
    "        Pay = hours*rate\n",
    "        print(\"기본 급여 지급\",Pay)\n",
    "    return Pay\n",
    "    \n",
    "    \n",
    "Eh = input('Enter Hours :')\n",
    "Er = input('Enter Rate :')\n",
    "fh = float(Eh)\n",
    "fr = float(Er)\n",
    "\n",
    "\n",
    "xp=computepay(fh,fr)\n",
    "\n",
    "print ('내가 받을 급여는',xp)"
   ]
  },
  {
   "cell_type": "code",
   "execution_count": 8,
   "metadata": {},
   "outputs": [
    {
     "name": "stdout",
     "output_type": "stream",
     "text": [
      "Enter Hours :ten\n",
      "Enter Rate :10\n",
      "숫자로 입력하시오\n",
      "Enter Hours :50\n",
      "Enter Rate :10\n",
      "In computepay 50.0 10.0\n",
      "초과 근무 수당 지급 650.0\n",
      "내가 받을 급여는 650.0\n"
     ]
    }
   ],
   "source": [
    "# 문자로 넣을 경우 재차 입력시키기 추가\n",
    "def computepay(hours, rate) :\n",
    "    print('In computepay', hours, rate)\n",
    "    if hours > 40:\n",
    "        reg = rate*hours\n",
    "        otp = (hours-40.0)*(rate*1.5)\n",
    "        Pay=reg+otp\n",
    "        print(\"초과 근무 수당 지급\", Pay)\n",
    "    else :\n",
    "        Pay = hours*rate\n",
    "        print(\"기본 급여 지급\",Pay)\n",
    "    return Pay\n",
    "    \n",
    "while True:\n",
    "    try:\n",
    "        Eh = input('Enter Hours :')\n",
    "        Er = input('Enter Rate :')\n",
    "        fh = float(Eh)\n",
    "        fr = float(Er)\n",
    "        break\n",
    "    except:\n",
    "        print(\"숫자로 입력하시오\")\n",
    "        quit()\n",
    "\n",
    "xp=computepay(fh,fr)\n",
    "\n",
    "print ('내가 받을 급여는',xp)"
   ]
  }
 ],
 "metadata": {
  "kernelspec": {
   "display_name": "Python 3",
   "language": "python",
   "name": "python3"
  },
  "language_info": {
   "codemirror_mode": {
    "name": "ipython",
    "version": 3
   },
   "file_extension": ".py",
   "mimetype": "text/x-python",
   "name": "python",
   "nbconvert_exporter": "python",
   "pygments_lexer": "ipython3",
   "version": "3.7.3"
  }
 },
 "nbformat": 4,
 "nbformat_minor": 2
}
