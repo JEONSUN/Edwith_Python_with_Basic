{
 "cells": [
  {
   "cell_type": "markdown",
   "metadata": {},
   "source": [
    "# 5.1 Loops and Iteration\n",
    "\n",
    "##  Repeted Steps\n",
    "\n",
    "![screensh](./figure/figure5.jpg)\n",
    "\n",
    "\n",
    "- 루프 (반복 단계) 는 각 루프 마다 변하는 반복 변수를 가지고 있음\n",
    "\n",
    "- 종종 반복 변수는 연속된 숫자를 차례대로 받음\n"
   ]
  },
  {
   "cell_type": "markdown",
   "metadata": {},
   "source": [
    "## An infinite Loop\n",
    "\n",
    "\n",
    "#### 반복 변수를 잘못 사용하면 무한 루프에 걸릴 수 있다.\n",
    "\n",
    "~~~python\n",
    "n = 5\n",
    "while n > 5 :  # n의 값이 반복할 때마다 참이므로 컴퓨터 종료 전까지 실행 될 것.\n",
    "    print('Lather)\n",
    "    print('Rinse')\n",
    "print('Pay off')\n",
    "~~~"
   ]
  },
  {
   "cell_type": "markdown",
   "metadata": {},
   "source": [
    "## Another Loop\n",
    "\n",
    "\n",
    "#### 반복 변수가 참이 아니면 해당 루프를 건너 뛴다.\n",
    "~~~python\n",
    "n = 0\n",
    "while n > 0 : # n의 값이 0이므로 해당하지 않아 아래의 명령문을 건너뜀, 실행하지 않음\n",
    "    print('Lather')\n",
    "    print('Rinse')\n",
    "print('Pay off')\n",
    "~~~"
   ]
  },
  {
   "cell_type": "markdown",
   "metadata": {},
   "source": [
    "## Breaking Out of a Loop\n",
    "\n",
    "-  **break** 구문은 현재 루프를 끝내고 루프 다음에 있는 구문으로 바로 건너 뛴다.\n",
    "\n",
    "\n",
    "-  루프 본문 어디에서든 일어날 수 있는 루프 테스트와 같음 "
   ]
  },
  {
   "cell_type": "code",
   "execution_count": 1,
   "metadata": {},
   "outputs": [
    {
     "name": "stdout",
     "output_type": "stream",
     "text": [
      ">1\n",
      "1\n",
      ">2\n",
      "2\n",
      ">done\n",
      "Done!\n"
     ]
    }
   ],
   "source": [
    "while True :\n",
    "    line = input('>')\n",
    "    if line == 'done' :\n",
    "        break\n",
    "    print(line)\n",
    "print('Done!')\n",
    "        \n",
    "    "
   ]
  },
  {
   "cell_type": "markdown",
   "metadata": {},
   "source": [
    "## Finishing an Iteration with continue\n",
    "\n",
    "- **continue**구문은 현재 반복을 끝내고 루프의 시작으로 점프해서 다음 반복을 실행\n",
    "\n",
    "\n",
    "- **continue** 구문은 break 구문과 달리 만나면 더이상 진행하지 않고 위로 다시 올라가 질문 실행 "
   ]
  },
  {
   "cell_type": "code",
   "execution_count": 2,
   "metadata": {},
   "outputs": [
    {
     "name": "stdout",
     "output_type": "stream",
     "text": [
      ">1\n",
      "1\n",
      ">#python\n",
      ">line\n",
      "line\n",
      ">done\n",
      "Done!\n"
     ]
    }
   ],
   "source": [
    "while True :\n",
    "    line = input ('>')\n",
    "    if line[0] == '#' : # 참이면 다시 루프 위로 올라감\n",
    "        continue\n",
    "    if line == 'done':  # 참일시 루프 종료\n",
    "        break \n",
    "    print(line)\n",
    "print('Done!')"
   ]
  },
  {
   "cell_type": "markdown",
   "metadata": {},
   "source": [
    "## Indefinite Loops\n",
    "***\n",
    "- while 루프는 조건문이 거짓이 되기 전까지 계속 실행 되기 때문에 **불확정 루프**라고 불린다. \n",
    "\n",
    "\n",
    "- 지금까지 본 루프는 종료 가능한지 아니면 **무한 루프**인지 검토하기 쉬웠음 \n",
    "\n",
    "\n",
    "- 그러나 가끔은 루프가 종료할 수 있는지 확인하기 어려울 수 있다\n",
    "***"
   ]
  },
  {
   "cell_type": "markdown",
   "metadata": {},
   "source": [
    "# 5.2 Definite Loops\n",
    "\n",
    "- 우리는 자주 어떤 항목의 리스트, 예를 들어 파일의 줄을 데이터로 받음 - 다른 말로 어떤 것의 유한 집합 \n",
    "\n",
    "\n",
    "- 파이썬 for 구조를 이용해서 집합의 각 항목에 대해서 반복문을 실행하는 루프를 만들 수 있음 \n",
    "\n",
    "\n",
    "- 정확히 특정 횟수 만큼 실행되므로 이 루프를 **유한 루프** 라고 함 \n",
    "\n",
    "\n",
    "- **유한 루프는 집합의 원소를 통해 반복**"
   ]
  },
  {
   "cell_type": "markdown",
   "metadata": {},
   "source": [
    "## A Simple Definite Loop"
   ]
  },
  {
   "cell_type": "code",
   "execution_count": 3,
   "metadata": {},
   "outputs": [
    {
     "name": "stdout",
     "output_type": "stream",
     "text": [
      "5\n",
      "4\n",
      "3\n",
      "2\n",
      "1\n",
      "Blastoff!\n"
     ]
    }
   ],
   "source": [
    "for i in [5,4,3,2,1] :\n",
    "    print(i)\n",
    "print('Blastoff!')"
   ]
  },
  {
   "cell_type": "markdown",
   "metadata": {},
   "source": [
    "## A Definite Loop with Strings"
   ]
  },
  {
   "cell_type": "code",
   "execution_count": 4,
   "metadata": {},
   "outputs": [
    {
     "name": "stdout",
     "output_type": "stream",
     "text": [
      "Hello: Kim\n",
      "Hello: Park\n",
      "Hello: Jeon\n",
      "Done!\n"
     ]
    }
   ],
   "source": [
    "friends = ['Kim','Park','Jeon']\n",
    "for fr in friends :\n",
    "    print('Hello:',fr)\n",
    "print('Done!')"
   ]
  },
  {
   "cell_type": "markdown",
   "metadata": {},
   "source": [
    "## Looking at In\n",
    "\n",
    "- 반복 변수는 시퀀스(순서가 있는 집합)를 통해 **반복** \n",
    "\n",
    "\n",
    "- 코드의 루프 블럭(본문)은 시퀀스 안의 각 값에 대해 한번씩 실행 \n",
    "\n",
    "\n",
    "- The 반복 변수는 시퀀스 안의 모든 값을 가지고 실행\n",
    "\n",
    "~~~python\n",
    "# i = 반복 변수\n",
    "# [] = 5개의 원소를 가진 시퀀스\n",
    "\n",
    "for i in [5,4,3,2,1]\n",
    "\n",
    "~~~"
   ]
  },
  {
   "cell_type": "markdown",
   "metadata": {},
   "source": [
    "# 5.3 Loop Idioms: What We Do in Loops"
   ]
  },
  {
   "attachments": {},
   "cell_type": "markdown",
   "metadata": {},
   "source": [
    "## Making \"Smart\" loops\n",
    "\n",
    "![screensh](./figure/figure8.png)\n"
   ]
  },
  {
   "cell_type": "markdown",
   "metadata": {},
   "source": [
    "## Looping through a set\n",
    "\n",
    "~~~python\n",
    "\n",
    "print('Before)\n",
    "for thing in [1,213,4,15,6] :\n",
    "      print(thing)\n",
    "print('After')\n",
    "\n",
    ">>Before \n",
    "      1 \n",
    "     213 \n",
    "      4 \n",
    "      15 \n",
    "      6\n",
    "    After\n",
    "~~~"
   ]
  },
  {
   "cell_type": "markdown",
   "metadata": {},
   "source": [
    "# Use of Loop"
   ]
  },
  {
   "cell_type": "markdown",
   "metadata": {},
   "source": [
    "# 5.3.1 Counting in a Loop"
   ]
  },
  {
   "cell_type": "code",
   "execution_count": 5,
   "metadata": {},
   "outputs": [
    {
     "name": "stdout",
     "output_type": "stream",
     "text": [
      "Before 0\n",
      "1 9\n",
      "2 123\n",
      "3 4\n",
      "4 221\n",
      "5 23\n",
      "6 42\n",
      "7 13\n",
      "8 21351\n",
      "After 8\n"
     ]
    }
   ],
   "source": [
    "sort = 0  # 변수 설정\n",
    "print('Before',sort)\n",
    "for thing in [9,123,4,221,23,42,13,21351]:\n",
    "    sort = sort + 1 # thing에서 21351을 세고 루프 종료\n",
    "    print(sort,thing)\n",
    "print('After',sort)\n",
    "\n"
   ]
  },
  {
   "cell_type": "markdown",
   "metadata": {},
   "source": [
    "# 5.3.2 Summing in a Loop"
   ]
  },
  {
   "cell_type": "code",
   "execution_count": 6,
   "metadata": {},
   "outputs": [
    {
     "name": "stdout",
     "output_type": "stream",
     "text": [
      "Before 0\n",
      "9 9\n",
      "132 123\n",
      "136 4\n",
      "357 221\n",
      "380 23\n",
      "422 42\n",
      "435 13\n",
      "21786 21351\n",
      "After 21786\n"
     ]
    }
   ],
   "source": [
    "sort = 0  # 변수 설정\n",
    "print('Before',sort)\n",
    "for thing in [9,123,4,221,23,42,13,21351]:\n",
    "    sort = sort + thing # thing 21351까지 다 더한 값을 sort에 넣어 루프 종료\n",
    "    print(sort,thing)\n",
    "print('After',sort)"
   ]
  },
  {
   "cell_type": "markdown",
   "metadata": {},
   "source": [
    "# 5.3.3 Finding the Average in a Loop"
   ]
  },
  {
   "cell_type": "code",
   "execution_count": 7,
   "metadata": {},
   "outputs": [
    {
     "name": "stdout",
     "output_type": "stream",
     "text": [
      "Before 0 0\n",
      "1 9 9\n",
      "2 132 123\n",
      "3 136 4\n",
      "4 357 221\n",
      "5 380 23\n",
      "6 422 42\n",
      "7 435 13\n",
      "8 21786 21351\n",
      "After 8 21786 2723.25\n"
     ]
    }
   ],
   "source": [
    "sort = 0\n",
    "sum = 0\n",
    "print ('Before', sort ,sum)\n",
    "for thing in [9,123,4,221,23,42,13,21351] :\n",
    "    sort = sort + 1\n",
    "    sum = sum+thing\n",
    "    print(sort,sum,thing)\n",
    "print('After',sort,sum,sum/sort)\n",
    "    "
   ]
  },
  {
   "cell_type": "markdown",
   "metadata": {},
   "source": [
    "# 5.3.4 Filtering in a Loop"
   ]
  },
  {
   "cell_type": "code",
   "execution_count": 8,
   "metadata": {},
   "outputs": [
    {
     "name": "stdout",
     "output_type": "stream",
     "text": [
      "Before\n",
      "Large Number 42\n",
      "Large Number 166\n",
      "Large Number 31\n",
      "Large Number 43\n",
      "after\n"
     ]
    }
   ],
   "source": [
    "print('Before')\n",
    "for filtering in [13,23,42,12,166,31,15,43] :\n",
    "    if filtering > 30 :\n",
    "        print ('Large Number',filtering)\n",
    "print ('after') "
   ]
  },
  {
   "cell_type": "markdown",
   "metadata": {},
   "source": [
    "# 5.3.5 Search Using a Boolean Variable"
   ]
  },
  {
   "cell_type": "code",
   "execution_count": 9,
   "metadata": {},
   "outputs": [
    {
     "name": "stdout",
     "output_type": "stream",
     "text": [
      "Before False\n",
      "False 9\n",
      "False 41\n",
      "False 123\n",
      "True 13\n",
      "True 23\n",
      "True 51\n",
      "True 15\n",
      "After True\n"
     ]
    }
   ],
   "source": [
    "found = False\n",
    "print ('Before', found)\n",
    "for value in [9,41,123,13,23,51,15] : \n",
    "    if value == 13 :\n",
    "        found = True  # False로 되돌리는 코드가 없으므로 13을 찾고나면 True로 유지됨.\n",
    "    print(found,value)\n",
    "print('After',found)"
   ]
  },
  {
   "cell_type": "markdown",
   "metadata": {},
   "source": [
    "# 5.3.6 How to fine the smallest value"
   ]
  },
  {
   "cell_type": "code",
   "execution_count": 10,
   "metadata": {},
   "outputs": [
    {
     "name": "stdout",
     "output_type": "stream",
     "text": [
      "Before -1\n",
      "-1 9\n",
      "-1 41\n",
      "-1 123\n",
      "-1 3\n",
      "-1 23\n",
      "-1 51\n",
      "-1 15\n",
      "After -1\n"
     ]
    }
   ],
   "source": [
    "# 이 모든 숫자가 -1 보다 작지 않으므로 최솟값이 전부 -1 로 나온다.\n",
    "smallest_so_far = -1\n",
    "print('Before', smallest_so_far)\n",
    "for the_num in [9,41,123,3,23,51,15] :\n",
    "    if the_num < smallest_so_far :\n",
    "        smallest_so_far = the_num\n",
    "    print(smallest_so_far,the_num)\n",
    "print('After',smallest_so_far)"
   ]
  },
  {
   "cell_type": "code",
   "execution_count": 11,
   "metadata": {},
   "outputs": [
    {
     "name": "stdout",
     "output_type": "stream",
     "text": [
      "Before 100\n",
      "9 9\n",
      "9 41\n",
      "9 123\n",
      "3 3\n",
      "3 23\n",
      "3 51\n",
      "3 15\n",
      "After 3\n"
     ]
    }
   ],
   "source": [
    "# smallest_so_far를 조절하여 the_num에서의 최솟값을 찾았음.\n",
    "# smallest_so_far를 모를때는 어떻게 해야할지 생각해 봐야함.\n",
    "smallest_so_far = 100\n",
    "print('Before', smallest_so_far)\n",
    "for the_num in [9,41,123,3,23,51,15] :\n",
    "    if the_num < smallest_so_far :\n",
    "        smallest_so_far = the_num\n",
    "    print(smallest_so_far,the_num)\n",
    "print('After',smallest_so_far)"
   ]
  },
  {
   "cell_type": "code",
   "execution_count": 12,
   "metadata": {},
   "outputs": [
    {
     "name": "stdout",
     "output_type": "stream",
     "text": [
      "Before\n",
      "9 9\n",
      "9 41\n",
      "9 123\n",
      "3 3\n",
      "3 23\n",
      "3 51\n",
      "3 15\n",
      "After 3\n"
     ]
    }
   ],
   "source": [
    "# None 타입 자료형: 상수형이며 아무것도 가지고 있지 않음을 의미한다.\n",
    "smallest = None # 첫번째 값을 모른다고 가정\n",
    "print('Before')\n",
    "for the_num in [9,41,123,3,23,51,15] :\n",
    "    if smallest is None :\n",
    "        smallest = the_num\n",
    "    elif the_num < smallest :\n",
    "        smallest = the_num\n",
    "    print(smallest,the_num)\n",
    "print('After',smallest)"
   ]
  },
  {
   "cell_type": "markdown",
   "metadata": {},
   "source": [
    "## The 'is' and 'is not' Operators\n",
    "\n",
    "- 논리식에 사용됨\n",
    "\n",
    "\n",
    "- **is the same as**를 암시함\n",
    "\n",
    "\n",
    "- **==** 와 비슷하나 더 강력한 논리연산자이다 \n",
    ">- 변수의 자료형과 값 모두의 동등성을 요구하고 자료형 변환이 이루어지기때문\n",
    ">>- 매우 강력한 연산자이므로 남용하지 말 것.\n",
    "\n",
    "- Boolean 이나 None 타입 자료형에만 사용하는걸 권장"
   ]
  },
  {
   "cell_type": "markdown",
   "metadata": {},
   "source": [
    "# Exercise"
   ]
  },
  {
   "cell_type": "markdown",
   "metadata": {},
   "source": [
    "### Exercise 1 : Write a program which repeatedly reads numbers until the user enters \"done\". Once \"done\" is entered, print out the total, count , and average of the numbers. If the user enters anything other than a number, detect their mistake using try and except and print an error message and skip to the next number.\n",
    "\n",
    "***\n",
    "Enter a number : 4\n",
    "<br>\n",
    "Enter a number : 5\n",
    "<br>\n",
    "Enter a number : bad data\n",
    "<br>\n",
    "Invaild input\n",
    "<br>\n",
    "Enter a number : 7\n",
    "<br>\n",
    "Enter a number : done\n",
    "<br>\n",
    "16 3 5.333333333\n",
    "***\n"
   ]
  },
  {
   "cell_type": "code",
   "execution_count": 13,
   "metadata": {},
   "outputs": [
    {
     "name": "stdout",
     "output_type": "stream",
     "text": [
      "Enter a number:4\n",
      "Enter a number:5\n",
      "Enter a number:bad data\n",
      "Invalid input\n",
      "Enter a number:7\n",
      "Enter a number:done\n",
      "16.0 3 5.333333333333333\n"
     ]
    }
   ],
   "source": [
    "num  = 0\n",
    "tot = 0.0\n",
    "while True :\n",
    "    sval = input (\"Enter a number:\")\n",
    "    if sval == 'done': # if 지정안하면 done 을 숫자로 인식하여 에러 발생.\n",
    "        break \n",
    "    try:\n",
    "        fval = float (sval)\n",
    "    except:\n",
    "        print('Invalid input')\n",
    "        continue\n",
    "    #print(fval)\n",
    "    num = num + 1\n",
    "    tot = tot + fval\n",
    "\n",
    "# print('All Done')\n",
    "print(tot,num,tot/num)    "
   ]
  }
 ],
 "metadata": {
  "kernelspec": {
   "display_name": "Python 3",
   "language": "python",
   "name": "python3"
  },
  "language_info": {
   "codemirror_mode": {
    "name": "ipython",
    "version": 3
   },
   "file_extension": ".py",
   "mimetype": "text/x-python",
   "name": "python",
   "nbconvert_exporter": "python",
   "pygments_lexer": "ipython3",
   "version": "3.7.3"
  }
 },
 "nbformat": 4,
 "nbformat_minor": 2
}
