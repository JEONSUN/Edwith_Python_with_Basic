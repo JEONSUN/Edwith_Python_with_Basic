{
 "cells": [
  {
   "cell_type": "markdown",
   "metadata": {},
   "source": [
    "# 1.1 Why Program?"
   ]
  },
  {
   "cell_type": "markdown",
   "metadata": {},
   "source": [
    "## Computer\n",
    "\n",
    "- 컴퓨터는 사람을 위해 일하기 위한 목적으로 만들어짐.\n",
    "\n",
    "- 원하는 일을 시키려면 컴퓨터 언어를 알아야 한다.\n",
    "\n",
    "- 여러 프로그램(명령)을 컴퓨터에 저장해 놓고 원하는 것을 때에 따라 골라 실행"
   ]
  },
  {
   "cell_type": "markdown",
   "metadata": {},
   "source": [
    "## Programmers\n",
    "\n",
    "- **궁극적인 목표: 기기가 우리를 위해 일을 하도록 만드는 것**"
   ]
  },
  {
   "cell_type": "markdown",
   "metadata": {},
   "source": [
    "## Users vs Programmers\n",
    "\n",
    "- 사용자는 컴퓨터를 도구로 사용한다. - word processor , spreadsheet , map , etc.\n",
    "\n",
    "- 프로그래머는 컴퓨터의 작동 방식과 언어를 학습\n",
    "\n",
    "- 프로그래머는 우리가 원하는대로 작동하도록 컴퓨터를 바꿀 수 있어야 함.\n"
   ]
  },
  {
   "cell_type": "markdown",
   "metadata": {},
   "source": [
    "## Why be a programmer?\n",
    "\n",
    "###  문제를 해결할 수 있는 프로그램을 짜는것\n",
    "\n",
    "- 원하는 결과를 주지 않을시 직접 데이터 분석 프로그램을 만들 수 있어야함.\n",
    "\n",
    "- 원하는 일을 컴퓨터가 하게끔 만들려고 함.\n",
    "\n",
    "\n",
    "### 프로그래머 입장에서는 컴퓨터가 내부에서 외부세상을 어떻게 보는지 이해 할 수 있어야 한다.\n",
    "\n",
    "- 컴퓨터를 이해하기 위해서는 다양한 명령어로 구성된 프로그램이 필요함.\n",
    "\n",
    "- **프로그래머는 똑똑하진 않지만 매우 강력한 내부자원을 조율하고 사용자가 원하는 것을 중재하는 역할을 함.**"
   ]
  },
  {
   "cell_type": "markdown",
   "metadata": {},
   "source": [
    "## What is code? Software? A Program?\n",
    "\n",
    "### 코드와 프로그래밍을 통해..\n",
    "- 프로그래머는 사용자가 원하는 것을, 컴퓨터는 프로그래머에게 자원을 제공, 컴퓨터와 프로그래머는 사용자에게 필요를 충족시킴.\n",
    "\n",
    "### 프로그래밍이란?\n",
    "- **사용자의 욕구를 충족시키기위해 컴퓨터 내에 있는 자원에게 내리는 명령문들의 집합**\n",
    "\n",
    "- 컴퓨터는 명단 올리는 법을 모르지만 우리는 코드를 통해 컴퓨터내에 있는 데이터를 가지고 명단을 만들 수 있다.\n"
   ]
  },
  {
   "cell_type": "markdown",
   "metadata": {},
   "source": [
    "## Programs for Human...\n",
    "\n",
    "- 컴퓨터는 사람과 달리 오타를 구분하지 않고 있는 그대로 받아들인다.\n",
    "\n",
    "- 컴퓨터는 우리가 뜻하는 것과 말하는 것의 차이를 구분을 못함.\n"
   ]
  },
  {
   "cell_type": "markdown",
   "metadata": {},
   "source": [
    "## Programs for Python...\n",
    "\n",
    "#### 단순 반복작업에 유용하다.\n",
    "\n",
    "- 컴퓨터는 많은 양의 정보를 읽을 수 있다.\n",
    "\n",
    "- 코드를 짜면 몇백만개의 단어를 쉽게 셀 수있다."
   ]
  },
  {
   "cell_type": "markdown",
   "metadata": {},
   "source": [
    "# 1.2 Hardware Architecture"
   ]
  },
  {
   "attachments": {},
   "cell_type": "markdown",
   "metadata": {},
   "source": [
    "![screensh](./figure/figure1.png)"
   ]
  },
  {
   "cell_type": "markdown",
   "metadata": {},
   "source": [
    "### cpu -> Main Memory -> Cpu  \n",
    "\n",
    "- 프로그래머가 파일에 코드를 실행 ->  메인 메모리에 로드(파이썬 파일은 0과 1로 구성된 기계어로 번역) ->  Cpu에서 다시 실행"
   ]
  },
  {
   "cell_type": "markdown",
   "metadata": {},
   "source": [
    "### Central Processing Unit (Cpu)\n",
    "\n",
    "- **중앙 연산 처리장치**\n",
    "\n",
    "- 하드웨어에서 뇌와 가장 비슷한 기능을 함.\n",
    "\n",
    "- 1초에 30억번씩 무엇을 해야할지 물어봄.\n"
   ]
  },
  {
   "cell_type": "markdown",
   "metadata": {},
   "source": [
    "### Main Memory\n",
    "\n",
    "- **프로그래밍의 핵심**\n",
    "- 명령 저장\n",
    "\n",
    "- CPU가 새로운 명령이 필요하면 메인 메모리가 명령 전달, CPU가 명령 실행\n",
    "\n",
    "- 구입했거나 내장된 프로그램이 저장\n",
    "\n",
    "- 메인 메모리는 전원을 끄면 정보가 사라짐"
   ]
  },
  {
   "cell_type": "markdown",
   "metadata": {},
   "source": [
    "### MotherBoard\n",
    "\n",
    "- 컴퓨터의 장치들을 하나로 연결해주는 보드"
   ]
  },
  {
   "cell_type": "markdown",
   "metadata": {},
   "source": [
    "### Hard Drive\n",
    "\n",
    "- 보조 기억장치\n",
    "\n",
    "- 운영체제, 파일, 응용 프로그램이 저장되는 곳\n",
    "\n",
    "- 메인 메모리와 달리 영구적으로 메모리를 저장"
   ]
  },
  {
   "cell_type": "markdown",
   "metadata": {},
   "source": [
    "# 1.3 Python as Language\n",
    "\n"
   ]
  },
  {
   "cell_type": "markdown",
   "metadata": {},
   "source": [
    "##  Python이 최근에 인기가 많아진 이유\n",
    "- 배우기 쉽고 간결하고 강력하기 때문."
   ]
  },
  {
   "cell_type": "markdown",
   "metadata": {},
   "source": [
    "#### Python은 파이썬 인터프리터의 언어. \n",
    "#### Python을 하는 사람을 Pythonista이라 부름. \n",
    "#### 평범하지 않은 유전적 능력일 수 있다고 함. \n",
    "#### 대부분의 Pythonistas는 Guido van Rossum가 개발한 소프트웨어를 사용"
   ]
  },
  {
   "cell_type": "markdown",
   "metadata": {},
   "source": [
    "## Early Learner : Syntax Errors\n",
    "\n",
    "- 파이썬을 사용해 소프트웨어를 개발하는 것을 배우며 문법 에러를 자주 만나게 될 것.\n",
    "\n",
    "- 문법 에러가 당신이 부족한 프로그래머라는 것을 의미하는 건 아니다.\n",
    "\n",
    "- 짜증 날 수도 있지만 문법 에러에 익숙해져야 한다."
   ]
  },
  {
   "cell_type": "markdown",
   "metadata": {},
   "source": [
    "## Talking to Python"
   ]
  },
  {
   "cell_type": "code",
   "execution_count": 1,
   "metadata": {},
   "outputs": [
    {
     "name": "stdout",
     "output_type": "stream",
     "text": [
      "1\n"
     ]
    }
   ],
   "source": [
    "# x라는 기억 장소에 1을 집어넣어.\n",
    "x=1\n",
    "# x라는 기억장소에 저장된 값을 보여줘.\n",
    "print(x)"
   ]
  },
  {
   "cell_type": "code",
   "execution_count": 2,
   "metadata": {},
   "outputs": [
    {
     "name": "stdout",
     "output_type": "stream",
     "text": [
      "2\n"
     ]
    }
   ],
   "source": [
    "# 예전 x값에 1을 더해서 보여줘. \n",
    "x= x+1\n",
    "print(x)"
   ]
  },
  {
   "cell_type": "markdown",
   "metadata": {},
   "source": [
    "# 1.4 What Do We Say?"
   ]
  },
  {
   "cell_type": "markdown",
   "metadata": {},
   "source": [
    "## Elements of Python\n",
    "\n",
    "\n",
    "\n",
    "- **단어** - 변수와 예약어  \n",
    "\n",
    "\n",
    "- **문장 구조** - 문법 \n",
    "\n",
    "\n",
    "- **이야기 구조** - 목적에 맞는 프로그램"
   ]
  },
  {
   "cell_type": "markdown",
   "metadata": {},
   "source": [
    "## Reserved Words\n",
    "\n",
    "\n",
    "- 지정한 의미로만 쓰이는 단어\n",
    "- 예약어를 변수 이름/식별자로 사용할 수 없음\n",
    "\n",
    "\n",
    "\n",
    "**False class return is**\n",
    "\n",
    "**finally None if for** \n",
    "\n",
    "**lambda continue True def**\n",
    "\n",
    "**from while nonlocal and** \n",
    "\n",
    "**del global not with** \n",
    "\n",
    "**as elif try or yield** \n",
    "\n",
    "**assert else import pass** \n",
    "\n",
    "**break except in raise**\n",
    "\n"
   ]
  },
  {
   "cell_type": "markdown",
   "metadata": {},
   "source": [
    "## Sentences or Lines\n",
    "\n",
    "- 파이썬 프로그램은 문장으로 구성\n",
    "\n",
    "- 컴퓨터가 다음으로 원하는 것이 있기 때문에 순서가 있음.\n",
    "\n",
    "\n",
    "x = 2  <- Assignment statement\n",
    "\n",
    "x = x + 2 <- Assignment with expression\n",
    "\n",
    "print(x) <- Print Statement\n"
   ]
  },
  {
   "cell_type": "markdown",
   "metadata": {},
   "source": [
    "# Programming Paragraphs"
   ]
  },
  {
   "cell_type": "markdown",
   "metadata": {},
   "source": [
    "## Python Scripts\n",
    "\n",
    "• 대화식 파이썬은 3-4줄의 코드를 실험하기 좋음 \n",
    "\n",
    "• 하지만 대부분의 프로그램은 길기 때문에 파일에 코드를 적고 파이썬이 파일에 있는 명령을 실행 \n",
    "\n",
    "• 파이썬에게 스크립트를 주는 것과 같음 \n",
    "\n",
    "• 파일 이름에 “.py”를 붙여 파이썬을 썼다는 것을 표시"
   ]
  },
  {
   "cell_type": "markdown",
   "metadata": {},
   "source": [
    "## Interactive VS Script\n",
    "\n",
    "\n",
    "- 대화식 -  파이썬에 한 줄을 입력하면 바로 반응, 코드가 생각한 대로 작동하는지 테스트하기 좋음. \n",
    "\n",
    "\n",
    "- 스크립트 -  텍스트 에디터를 사용해 파일에 명령을 적고 파이썬이 파일에 있는 명령을 실행 "
   ]
  },
  {
   "cell_type": "markdown",
   "metadata": {},
   "source": [
    "## Program Steps or Program Flow\n",
    "\n",
    "- **Sequential Steps(순차문)** - 레시피나 설명문과 같이 진행 순서를 가짐, 순서대로 진행 \n",
    "\n",
    "\n",
    "- **Conditional Steps(조건문)** - 건너뛸 수 있음 \n",
    "\n",
    "\n",
    "- **반복문** - 반복돼 실행 \n",
    "\n",
    "\n",
    "- 프로그램에서 자주 반복될 부분을 따로 저장\n"
   ]
  },
  {
   "cell_type": "markdown",
   "metadata": {},
   "source": [
    "## Sequential Steps"
   ]
  },
  {
   "cell_type": "code",
   "execution_count": 3,
   "metadata": {},
   "outputs": [
    {
     "name": "stdout",
     "output_type": "stream",
     "text": [
      "2\n",
      "4\n"
     ]
    }
   ],
   "source": [
    "x=2 \n",
    "print(x) \n",
    "x=x+2 \n",
    "print(x)\n",
    "\n",
    "# 특별히 다르게 지정하지 않는 이상 하나의 명령문을 마치면 다음 명령문 진행"
   ]
  },
  {
   "cell_type": "markdown",
   "metadata": {},
   "source": [
    "## Conditional Steps"
   ]
  },
  {
   "cell_type": "code",
   "execution_count": 4,
   "metadata": {},
   "outputs": [
    {
     "name": "stdout",
     "output_type": "stream",
     "text": [
      "Smaller\n",
      "finis\n"
     ]
    }
   ],
   "source": [
    "# x가 10 보다 작으면 Smaller 출력 , 20보다 크면 Bigger 출력\n",
    "x= 5\n",
    "if x < 10:\n",
    "    print('Smaller')\n",
    "if x > 20:\n",
    "    print('Bigger')\n",
    "\n",
    "print('finis')    "
   ]
  },
  {
   "cell_type": "markdown",
   "metadata": {},
   "source": [
    "## Repeated Steps "
   ]
  },
  {
   "cell_type": "code",
   "execution_count": 5,
   "metadata": {},
   "outputs": [
    {
     "name": "stdout",
     "output_type": "stream",
     "text": [
      "5\n",
      "4\n",
      "3\n",
      "2\n",
      "1\n",
      "Blastoff!\n"
     ]
    }
   ],
   "source": [
    "# 반복 변수는 루프 한 번을 돌 때마다 변함\n",
    "\n",
    "n = 5\n",
    "while n > 0:\n",
    "    print(n)\n",
    "    n= n - 1\n",
    "    \n",
    "\n",
    "print('Blastoff!')"
   ]
  }
 ],
 "metadata": {
  "kernelspec": {
   "display_name": "Python 3",
   "language": "python",
   "name": "python3"
  },
  "language_info": {
   "codemirror_mode": {
    "name": "ipython",
    "version": 3
   },
   "file_extension": ".py",
   "mimetype": "text/x-python",
   "name": "python",
   "nbconvert_exporter": "python",
   "pygments_lexer": "ipython3",
   "version": "3.7.3"
  }
 },
 "nbformat": 4,
 "nbformat_minor": 2
}
