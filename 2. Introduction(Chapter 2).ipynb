{
 "cells": [
  {
   "cell_type": "markdown",
   "metadata": {},
   "source": [
    "# 2.1 Variables, Expressions, and Statements "
   ]
  },
  {
   "cell_type": "markdown",
   "metadata": {},
   "source": [
    "## Constants\n",
    "\n",
    "\n",
    "- 값이 변하지 않아서 숫자, 글자, 문자열과 같은 고정 값을 “상수” 라고 함 \n",
    "\n",
    "- 숫자 상수 \n",
    "\n",
    "- 문자열 상수는 작은따옴표나 (') 큰따옴표로(\") 표시 \n",
    "\n",
    "~~~python\n",
    ">>> print(123) \n",
    "123 \n",
    ">>> print(98.6) \n",
    "98.6 \n",
    ">>> print('Hello world') \n",
    "Hello world\n",
    "~~~"
   ]
  },
  {
   "cell_type": "markdown",
   "metadata": {},
   "source": [
    "## Reserved Words\n",
    "\n",
    "- 예약어를 변수 이름/식별자로 사용할 수 없음\n"
   ]
  },
  {
   "cell_type": "markdown",
   "metadata": {},
   "source": [
    "## Variables\n",
    "\n",
    "\n",
    "- 변수는 이름이 주어진 메모리로 변수 이름을 통해 데이터를 저장하고 검색 가능 \n",
    "\n",
    "\n",
    "- 프로그래머가 변수 이름을 지정 \n",
    "\n",
    "\n",
    "- 대입문을 통해 변수값을 변경 가능 \n",
    "\n",
    "~~~python\n",
    "              \n",
    "x = 12.2 \n",
    "\n",
    "y = 14\n",
    "~~~\n"
   ]
  },
  {
   "cell_type": "markdown",
   "metadata": {},
   "source": [
    "## Python Variable Name Rules\n",
    "\n",
    "\n",
    "- 글자나 밑줄로 시작\n",
    "\n",
    "- 글자, 숫자, 밑줄로 이루어짐 \n",
    "\n",
    "- 대소문자 구분\n",
    "\n",
    "***\n",
    "좋은 예 :   spam  /  eggs /  spam23  /  _speed \n",
    "\n",
    "나쁜 예 :     23spam  /   #sign / var.12 \n",
    "\n",
    "다른 예 :    spam /  Spam  / SPAM   <- 파이썬이 헷갈릴수 있음.\n",
    "***"
   ]
  },
  {
   "cell_type": "markdown",
   "metadata": {},
   "source": [
    "## Mnemonic Variable Names\n",
    "\n",
    "- 변수 이름은 프로그래머 마음대로 지정할 수 있다  - 모범 기준을 따라야 함 \n",
    "\n",
    "\n",
    "- 변수값과 연관 지어 변수 이름을 지정 (연상 기호) \n",
    "\n",
    "\n",
    "- 변수 이름이 키워드인 것 같아 보일 수 있기 때문에 초급자는 헷갈릴 수 있음\n",
    "\n"
   ]
  },
  {
   "cell_type": "markdown",
   "metadata": {},
   "source": [
    "### 변수 이름을 쉽게, 의미가 있게 지정할 필요가 있다.\n",
    "~~~python\n",
    "# 사용자가 알아보기가 어려움\n",
    "x1q3z9ocd = 35.0 \n",
    "x1q3z9afd = 12.50 \n",
    "x1q3p9afd = x1q3z9ocd * x1q3z9afd \n",
    "print(x1q3p9afd)\n",
    "\n",
    "\n",
    "# 알아보기 쉬운 변수 이름 지정\n",
    "a = 35.0 \n",
    "b = 12.50 \n",
    "c = a * b \n",
    "print(c)\n",
    "\n",
    "\n",
    "# 의미있는 변수 이름 지정\n",
    "hours = 35.0 \n",
    "rate = 12.50 \n",
    "pay = hours * rate \n",
    "print(pay)\n",
    "\n",
    "~~~\n"
   ]
  },
  {
   "cell_type": "markdown",
   "metadata": {},
   "source": [
    "## Sentences or Lines\n",
    "\n",
    "~~~python\n",
    "x = 2  # Statements (대입문) \n",
    "\n",
    "x = x + 2 # 대입문 + 표현식\n",
    "\n",
    "print(x) # 출력문\n",
    "~~~"
   ]
  },
  {
   "cell_type": "markdown",
   "metadata": {},
   "source": [
    "## Assignment Statements\n",
    "\n",
    "- 대입문 (=)으로 변수값을 지정 \n",
    "\n",
    "\n",
    "- 대입문은 오른편에 있는 표현식과 결과값이 저장되는 변수로 구성\n",
    "\n"
   ]
  },
  {
   "cell_type": "markdown",
   "metadata": {},
   "source": [
    "~~~python\n",
    "\n",
    "x= 0.6 # 초기 x값 0.6으로 구성\n",
    "\n",
    "x= 3.9*x*(1-x) # 3.9*0,6*(1-0.6)\n",
    "\n",
    "print(x) # 0.936이 새로운 x값으로 출력\n",
    "\n",
    "~~~"
   ]
  },
  {
   "cell_type": "markdown",
   "metadata": {},
   "source": [
    "\n",
    "# 2.2 Expression\n"
   ]
  },
  {
   "cell_type": "markdown",
   "metadata": {},
   "source": [
    "## Numeric Expressions\n",
    "\n",
    "- 컴퓨터 키보드에 수학 기호가 부족하기 때문에 “computer-speak”을 사용해 연산 \n",
    "\n",
    "- 별표 (*)는 곱하기 \n",
    "\n",
    "- 별표 별표 (**)는 거듭제곱\n",
    "\n",
    "***\n",
    "    +  < = 더하기\n",
    "    -  < = 빼기\n",
    "    *  < = 곱하기\n",
    "    /  < = 나누기\n",
    "    ** < = 거듭제곱\n",
    "    %  < = 나머지\n",
    "*** "
   ]
  },
  {
   "cell_type": "markdown",
   "metadata": {},
   "source": [
    "## Operator Precedence Rules\n",
    "***\n",
    "#### 높은 우선 순위에서 낮은 우선 순위:\n",
    "\n",
    "- 괄호가 항상 우선 \n",
    "\n",
    "- 거듭제곱 \n",
    "\n",
    "- 곱셈, 나눗셈, 나머지 \n",
    "\n",
    "- 덧셈, 뺄셈 \n",
    "\n",
    "- 왼쪽에서 오른쪽\n"
   ]
  },
  {
   "cell_type": "markdown",
   "metadata": {},
   "source": [
    "~~~python\n",
    "x = 1 + 2 ** 3 / 4*5   # 2^3 계산 -> 4로 나눈뒤에 5 곱하기 이후 +1\n",
    "\n",
    "print(x) # 결과\n",
    "\n",
    "11\n",
    "~~~"
   ]
  },
  {
   "cell_type": "markdown",
   "metadata": {},
   "source": [
    "## What does \"Type\" Mean?\n",
    "\n",
    "- 파이썬에는 변수, 문자, 상수라는 “자료형”이 있음 \n",
    "\n",
    "\n",
    "- 파이썬은 정수와 문자열의 차이를 앎 \n",
    "\n",
    "\n",
    "- 예를 들어 “+” 는 숫자를 “덧셈”하고 문자열을 “연결”\n",
    "\n",
    "\n",
    "~~~python\n",
    "\n",
    ">>> ddd = 1 + 4 \n",
    ">>> print(ddd) \n",
    "5 \n",
    "\n",
    ">>> eee = 'hello ' + 'there'\n",
    ">>> print(eee) \n",
    "hello there\n",
    "~~~"
   ]
  },
  {
   "cell_type": "markdown",
   "metadata": {},
   "source": [
    "## Type Matters\n",
    "\n",
    "- 파이썬은 “자료형”을 구분 \n",
    "\n",
    "\n",
    "- 어떤 연산은 금지되어 있음 \n",
    "\n",
    "\n",
    "- 예를 들어 문자열에 1을 더할 수 없음 \n",
    "\n",
    "\n",
    "- type() 함수를 써서 자료형을 알 수 있음\n",
    "\n",
    "***\n",
    "~~~python\n",
    "\n",
    ">>> eee = 'hello ' + 'there' \n",
    "\n",
    ">>> eee = eee + 1 # 문자열에 1을 더할 수 없음.\n",
    "Traceback (most recent call last):  File \"<stdin>\", line 1, in <module>TypeError: Can't convert 'int' object to str implicitly \n",
    "\n",
    ">>> type(eee) # type() 함수를 써서 자료형임을 알 수 있음.\n",
    "<class'str'> \n",
    "\n",
    ">>> type('hello') \n",
    "<class'str'> \n",
    "\n",
    ">>> type(1) \n",
    "<class'int'>\n",
    "~~~\n"
   ]
  },
  {
   "cell_type": "markdown",
   "metadata": {},
   "source": [
    "## Several Types of Numbers\n",
    "\n",
    "- 숫자는 크게 두 자료형으로 존재 \n",
    "\n",
    "\n",
    "- 정수    -14, -2, 0, 1, 100, 401233 \n",
    "\n",
    "\n",
    "- 부동 소수점 수    -2.5 , 0.0, 98.6, 14.0 \n",
    "\n",
    "\n",
    "- 이 외 다른 숫자 자료형이 있음 - 정수와 부동 소수점 수의 변형\n",
    "\n",
    "~~~python\n",
    "\n",
    ">>> xx = 1 \n",
    "\n",
    ">>> type (xx)  # 정수형\n",
    "<class 'int'> \n",
    "\n",
    ">>> temp = 98.6 # 소수\n",
    ">>> type(temp) \n",
    "<class'float'> \n",
    "\n",
    ">>> type(1)  # 정수\n",
    "<class 'int'> \n",
    "\n",
    ">>> type(1.0) # 소수\n",
    "<class'float'>  \n",
    "~~~"
   ]
  },
  {
   "cell_type": "markdown",
   "metadata": {},
   "source": [
    "## Type Conversions\n",
    "\n",
    "- 표현식에 정수와 부동 소수점 수가 있으면 암묵적으로 정수를 부동 소수점으로 변환됨 \n",
    "\n",
    "\n",
    "- 내장된 함수 int() 와 float() 으로 자료형을 변환을 할 수 있음\n",
    "\n",
    "~~~python\n",
    "\n",
    ">>> print(float(99) + 100) \n",
    "199.0 # float(99)가 소수이므로 소수형 출력\n",
    ">>> i = 42 \n",
    ">>> type(i)\n",
    "<class'int'> \n",
    ">>> f = float(i) # 정수인 i를 소수형으로 변환 \n",
    ">>> print(f) \n",
    "42.0 \n",
    ">>> type(f)\n",
    "<class'float'>\n",
    "~~~"
   ]
  },
  {
   "cell_type": "markdown",
   "metadata": {},
   "source": [
    "## Integer Division\n",
    "\n",
    "- 정수 나눗셈은 부동 소수점 수를 반환"
   ]
  },
  {
   "cell_type": "markdown",
   "metadata": {},
   "source": [
    "## String Conversions\n",
    "\n",
    "- int() 와 float() 으로 문자열과 정수를 변환 \n",
    "\n",
    "\n",
    "- 문자열에 숫자가 없을 경우 **에러**가 발생\n",
    "\n",
    "~~~python\n",
    "\n",
    ">>> sval = '123'  # '123' 이라는 문자열 생성\n",
    ">>> type(sval) \n",
    "<class 'str'> \n",
    ">>> print(sval + 1)  # 문자형 + 정수형이므로 에러 발생\n",
    "Traceback (most recent call last):  File \"<stdin>\", line 1, in <module> TypeError: Can't convert 'int' object to str implicitly \n",
    "\n",
    "       \n",
    ">>> ival = int(sval) # 문자형을 정수형 변환\n",
    ">>> type(ival) \n",
    "<class 'int'> \n",
    ">>> print(ival + 1) \n",
    "124 \n",
    "\n",
    ">>> nsv = 'hello bob'  # 문자열에 숫자가 없어 에러 발생 \n",
    ">>> niv = int(nsv) \n",
    "Traceback (most recent call last):  File \"<stdin>\", line 1, in <module> ValueError: invalid literal for int() with base 10: 'x'\n",
    "~~~"
   ]
  },
  {
   "cell_type": "markdown",
   "metadata": {},
   "source": [
    "## Users Input\n",
    "\n",
    "- input() 함수로 멈추고 사용자의 입력값을 받을 수 있음\n",
    "\n",
    "\n",
    "- input() 함수는 문자열을 반환\n"
   ]
  },
  {
   "cell_type": "markdown",
   "metadata": {},
   "source": [
    "~~~python \n",
    "# input을 통해 사용자가 원하는 값을 입력할 수 있음.\n",
    "nam = input('Who ars you?')\n",
    "\n",
    "print('Welcome',nam)\n",
    "\n",
    "Who ars you? JEON\n",
    "Welcome  JEON\n",
    "~~~"
   ]
  },
  {
   "cell_type": "markdown",
   "metadata": {},
   "source": [
    "## Converting User Input\n",
    "\n"
   ]
  },
  {
   "cell_type": "markdown",
   "metadata": {},
   "source": [
    "- 자료형 변환 함수를 사용해 문자열을 숫자로 바꾼 후 사용자가 입력한 숫자를 읽을 수 있음\n",
    "\n",
    "- 이후 변환이 불가능한 입력값에 대해 알아보기로\n"
   ]
  },
  {
   "cell_type": "markdown",
   "metadata": {},
   "source": [
    "## 예제\n",
    "\n",
    "~~~python\n",
    "\n",
    "inp = input('Europe floor?')  \n",
    "usf = int(inp) + 1 # 문자열인 inp를 정수형으로 변경\n",
    "print('US floor', usf)\n",
    "\n",
    "Europe floor? 0\n",
    "US floor 1\n",
    "~~~"
   ]
  },
  {
   "cell_type": "markdown",
   "metadata": {},
   "source": [
    "# Comments in Python\n",
    "\n",
    "- 파이썬은 # 다음 모든 내용을 무시\n",
    "\n",
    " \n",
    " **주석**의 역할\n",
    "***\n",
    "- 코드가 어떤 일을 하는지 설명\n",
    "- 코드를 쓴 사람 등 부가 설명\n",
    "- 임시적으로 코드를 비활성화"
   ]
  },
  {
   "cell_type": "markdown",
   "metadata": {},
   "source": [
    "##  연습 문제\n",
    "\n",
    "사용자에게 시간(Hours)과 시급(Rate)을 입력값으로 받아 급여를 계산하는 프로그램을 만들기\n",
    "\n",
    "Enter Hours: 35 \n",
    "\n",
    "Enter Rate: 2.75 \n",
    "\n",
    "Pay: 96.25"
   ]
  },
  {
   "cell_type": "markdown",
   "metadata": {},
   "source": [
    "~~~python\n",
    "\n",
    "Hours = 35\n",
    "Rate = 2.75\n",
    "\n",
    "print('내가 받을 급여는',Hours * Rate,'이다')\n",
    "\n",
    "내가 받을 급여는 96.25 이다\n",
    "~~~"
   ]
  }
 ],
 "metadata": {
  "kernelspec": {
   "display_name": "Python 3",
   "language": "python",
   "name": "python3"
  },
  "language_info": {
   "codemirror_mode": {
    "name": "ipython",
    "version": 3
   },
   "file_extension": ".py",
   "mimetype": "text/x-python",
   "name": "python",
   "nbconvert_exporter": "python",
   "pygments_lexer": "ipython3",
   "version": "3.7.3"
  }
 },
 "nbformat": 4,
 "nbformat_minor": 2
}
