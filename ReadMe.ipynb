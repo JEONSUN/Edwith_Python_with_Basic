{
 "cells": [
  {
   "cell_type": "markdown",
   "metadata": {},
   "source": [
    "# [Edwith] 모두를 위한 Python"
   ]
  },
  {
   "cell_type": "markdown",
   "metadata": {},
   "source": [
    "**이 강의는 NAVER 커넥트 재단 Edwith에서 Michigan 대학 Charles Severance 교수님이 진행하신 강의를 정리한 내용입니다.**"
   ]
  },
  {
   "cell_type": "markdown",
   "metadata": {},
   "source": [
    "## Index"
   ]
  },
  {
   "cell_type": "markdown",
   "metadata": {},
   "source": [
    "### 1. Introduction\n",
    "\n",
    "***\n",
    "#### 1.1 Why Program?\n",
    "\n",
    "#### 1.2 Hardware Architecture\n",
    "\n",
    "#### 1.3 Python as Language\n",
    "\n",
    "#### 1.4 What Do We Say?\n",
    "***"
   ]
  },
  {
   "cell_type": "markdown",
   "metadata": {},
   "source": [
    "### 2. Introduction(Chapter 2)\n",
    "\n",
    "***\n",
    "#### 2.1 Variables, Expressions, and Statements \n",
    "\n",
    "#### 2.2 Expressions\n",
    "***"
   ]
  },
  {
   "cell_type": "markdown",
   "metadata": {},
   "source": [
    "### 3. Conditional Execution\n",
    "\n",
    "***\n",
    "#### 3.1 Conditionals - Conditional Steps\n",
    "\n",
    "#### 3.2 More Conditional Structures\n",
    "***"
   ]
  },
  {
   "cell_type": "markdown",
   "metadata": {},
   "source": [
    "### 4. Functions\n",
    "\n",
    "***\n",
    "#### 4.1 Functions - Stored (and reused) Steps\n",
    "\n",
    "#### 4.2 Functions of Our Own\n",
    "***"
   ]
  },
  {
   "cell_type": "markdown",
   "metadata": {},
   "source": [
    "### 5.  Loops and Iteration\n",
    "\n",
    "***\n",
    "#### 5.1 Loops and Iteration - Repeted Steps\n",
    "\n",
    "#### 5.2 Definite Loops\n",
    "\n",
    "#### 5.3 Loop Idioms: What We Do in Loops\n",
    "\n",
    "#### Use of Loop\n",
    "> 5.3.1 Counting in a Loop\n",
    ">\n",
    "> 5.3.2 Summing in a Loop\n",
    ">\n",
    "> 5.3.3 Finding the Average in a Loop\n",
    ">\n",
    "> 5.3.4 Filtering in a Loop\n",
    ">\n",
    "> 5.3.5 Search Using a Boolean Variable\n",
    ">\n",
    "> 5.3.6 How to fine the smallest value\n",
    "***"
   ]
  },
  {
   "cell_type": "markdown",
   "metadata": {},
   "source": []
  }
 ],
 "metadata": {
  "kernelspec": {
   "display_name": "Python 3",
   "language": "python",
   "name": "python3"
  },
  "language_info": {
   "codemirror_mode": {
    "name": "ipython",
    "version": 3
   },
   "file_extension": ".py",
   "mimetype": "text/x-python",
   "name": "python",
   "nbconvert_exporter": "python",
   "pygments_lexer": "ipython3",
   "version": "3.7.3"
  }
 },
 "nbformat": 4,
 "nbformat_minor": 2
}
