{
 "cells": [
  {
   "cell_type": "code",
   "execution_count": 2,
   "metadata": {},
   "outputs": [
    {
     "name": "stdout",
     "output_type": "stream",
     "text": [
      "Enter a number:1\n",
      "Enter a number:2\n",
      "Enter a number:3\n",
      "Enter a number:bad data\n",
      "Invalid input\n",
      "Enter a number:7\n",
      "Enter a number:8\n",
      "Enter a number:9\n",
      "Enter a number:done\n",
      "30.0 6 5.0\n"
     ]
    }
   ],
   "source": [
    "num  = 0\n",
    "tot = 0.0\n",
    "while True :\n",
    "    sval = input (\"Enter a number:\")\n",
    "    if sval == 'done': # if 지정안하면 done 을 숫자로 인식하여 에러 발생.\n",
    "        break \n",
    "    try:\n",
    "        fval = float (sval)\n",
    "    except:\n",
    "        print('Invalid input')\n",
    "        continue\n",
    "    #print(fval)\n",
    "    num = num + 1\n",
    "    tot = tot + fval\n",
    "\n",
    "# print('All Done')\n",
    "print(tot,num,tot/num)    "
   ]
  }
 ],
 "metadata": {
  "kernelspec": {
   "display_name": "Python 3",
   "language": "python",
   "name": "python3"
  },
  "language_info": {
   "codemirror_mode": {
    "name": "ipython",
    "version": 3
   },
   "file_extension": ".py",
   "mimetype": "text/x-python",
   "name": "python",
   "nbconvert_exporter": "python",
   "pygments_lexer": "ipython3",
   "version": "3.7.3"
  }
 },
 "nbformat": 4,
 "nbformat_minor": 2
}
